{
 "cells": [
  {
   "cell_type": "code",
   "execution_count": 1,
   "id": "8db198ed",
   "metadata": {},
   "outputs": [],
   "source": [
    "import pandas as pd\n",
    "from sqlalchemy import create_engine\n"
   ]
  },
  {
   "cell_type": "code",
   "execution_count": 6,
   "id": "eab9cb87",
   "metadata": {},
   "outputs": [],
   "source": [
    "def rentals_month(engine, month, year):\n",
    "    query = f\"\"\"\n",
    "    SELECT rental_id, customer_id, rental_date\n",
    "    FROM rental\n",
    "    WHERE MONTH(rental_date) = {month} AND YEAR(rental_date) = {year}\n",
    "    \"\"\"\n",
    "    df = pd.read_sql(query, engine)\n",
    "    return df\n"
   ]
  },
  {
   "cell_type": "code",
   "execution_count": 3,
   "id": "2a7d3e3e",
   "metadata": {},
   "outputs": [],
   "source": [
    "def rental_count_month(df, month, year):\n",
    "    rental_counts = df.groupby('customer_id').size().reset_index(name=f\"rentals_{str(month).zfill(2)}_{year}\")\n",
    "    return rental_counts\n"
   ]
  },
  {
   "cell_type": "code",
   "execution_count": 4,
   "id": "ebb77978",
   "metadata": {},
   "outputs": [],
   "source": [
    "def compare_rentals(df1, df2):\n",
    "    combined = pd.merge(df1, df2, on='customer_id', how='inner')\n",
    "    \n",
    "    col1 = df1.columns[1]\n",
    "    col2 = df2.columns[1]\n",
    "    \n",
    "    combined['difference'] = combined[col2] - combined[col1]\n",
    "    return combined\n"
   ]
  }
 ],
 "metadata": {
  "kernelspec": {
   "display_name": "base",
   "language": "python",
   "name": "python3"
  },
  "language_info": {
   "codemirror_mode": {
    "name": "ipython",
    "version": 3
   },
   "file_extension": ".py",
   "mimetype": "text/x-python",
   "name": "python",
   "nbconvert_exporter": "python",
   "pygments_lexer": "ipython3",
   "version": "3.12.7"
  }
 },
 "nbformat": 4,
 "nbformat_minor": 5
}
